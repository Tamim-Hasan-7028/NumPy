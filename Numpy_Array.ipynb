{
  "nbformat": 4,
  "nbformat_minor": 0,
  "metadata": {
    "colab": {
      "provenance": []
    },
    "kernelspec": {
      "name": "python3",
      "display_name": "Python 3"
    },
    "language_info": {
      "name": "python"
    }
  },
  "cells": [
    {
      "cell_type": "code",
      "source": [
        "import numpy as np"
      ],
      "metadata": {
        "id": "so6FeHOzdaJh"
      },
      "execution_count": 1,
      "outputs": []
    },
    {
      "cell_type": "markdown",
      "source": [
        "# **Creating array from list**"
      ],
      "metadata": {
        "id": "ApCKzdtRdDN5"
      }
    },
    {
      "cell_type": "code",
      "source": [
        "lists=[1,2,3,4,5,6,7,8,9,0]\n",
        "print(type(lists))"
      ],
      "metadata": {
        "colab": {
          "base_uri": "https://localhost:8080/"
        },
        "id": "VZSZiF5VdIcW",
        "outputId": "0802f936-a6cc-458b-e083-934bce291a92"
      },
      "execution_count": 2,
      "outputs": [
        {
          "output_type": "stream",
          "name": "stdout",
          "text": [
            "<class 'list'>\n"
          ]
        }
      ]
    },
    {
      "cell_type": "code",
      "source": [
        "array_list=np.array(lists)\n",
        "print(type(array_list))\n",
        "print(array_list)"
      ],
      "metadata": {
        "colab": {
          "base_uri": "https://localhost:8080/"
        },
        "id": "u2Wpd3dedgs9",
        "outputId": "352ffb8f-2383-41f4-bdfb-2d9edf95d6c5"
      },
      "execution_count": 3,
      "outputs": [
        {
          "output_type": "stream",
          "name": "stdout",
          "text": [
            "<class 'numpy.ndarray'>\n",
            "[1 2 3 4 5 6 7 8 9 0]\n"
          ]
        }
      ]
    },
    {
      "cell_type": "markdown",
      "source": [
        "This is 1D array."
      ],
      "metadata": {
        "id": "13PfWuXgeEi0"
      }
    },
    {
      "cell_type": "markdown",
      "source": [
        "# **Creating arrays from scratch**"
      ],
      "metadata": {
        "id": "w6vheVKsfnOp"
      }
    },
    {
      "cell_type": "markdown",
      "source": [
        "\n",
        "\n",
        "1.   Create and print an array filled with zeros called zero_array, which has two rows and four columns.\n",
        "2.   Create and print an array of random floats between 0 and 1 called random_array, which has three rows and six columns.\n",
        "1.   Using np.arange(), create a 1D array called one_to_ten which holds all integers from one to ten (inclusive).\n",
        "\n",
        "\n",
        "\n"
      ],
      "metadata": {
        "id": "-3aHqjdbfpUd"
      }
    },
    {
      "cell_type": "code",
      "source": [
        "#1\n",
        "zero_array=np.zeros((3,4))    #use tuple or list\n",
        "zero_array"
      ],
      "metadata": {
        "colab": {
          "base_uri": "https://localhost:8080/"
        },
        "id": "qUu-QN4XgK0O",
        "outputId": "83b7fb88-5de2-4ae5-e8e0-015af356d11e"
      },
      "execution_count": 4,
      "outputs": [
        {
          "output_type": "execute_result",
          "data": {
            "text/plain": [
              "array([[0., 0., 0., 0.],\n",
              "       [0., 0., 0., 0.],\n",
              "       [0., 0., 0., 0.]])"
            ]
          },
          "metadata": {},
          "execution_count": 4
        }
      ]
    },
    {
      "cell_type": "code",
      "source": [
        "#2\n",
        "random_array=np.random.random((3,6))\n",
        "random_array"
      ],
      "metadata": {
        "colab": {
          "base_uri": "https://localhost:8080/"
        },
        "id": "AIXAEc8NhEwW",
        "outputId": "a344f5e0-bfea-4dc9-ada9-3e3defe67b8d"
      },
      "execution_count": 5,
      "outputs": [
        {
          "output_type": "execute_result",
          "data": {
            "text/plain": [
              "array([[0.84441796, 0.22122259, 0.16110325, 0.6442012 , 0.02124082,\n",
              "        0.58559355],\n",
              "       [0.72999206, 0.77742376, 0.95236584, 0.17210273, 0.40575026,\n",
              "        0.46361623],\n",
              "       [0.53806093, 0.92799421, 0.75839966, 0.06371502, 0.27922392,\n",
              "        0.60091554]])"
            ]
          },
          "metadata": {},
          "execution_count": 5
        }
      ]
    },
    {
      "cell_type": "code",
      "source": [
        "#3\n",
        "one_to_ten=np.arange(1,11)  #we are not using list.\n",
        "one_to_ten"
      ],
      "metadata": {
        "colab": {
          "base_uri": "https://localhost:8080/"
        },
        "id": "oGWMyh4XhO01",
        "outputId": "fd24c846-bf91-4981-846d-3328e37193d0"
      },
      "execution_count": 6,
      "outputs": [
        {
          "output_type": "execute_result",
          "data": {
            "text/plain": [
              "array([ 1,  2,  3,  4,  5,  6,  7,  8,  9, 10])"
            ]
          },
          "metadata": {},
          "execution_count": 6
        }
      ]
    },
    {
      "cell_type": "markdown",
      "source": [
        "# **Dimensions in Arrays**"
      ],
      "metadata": {
        "id": "fheEhBSxpdr4"
      }
    },
    {
      "cell_type": "markdown",
      "source": [
        "## **0D**"
      ],
      "metadata": {
        "id": "STCN3jEvpkTv"
      }
    },
    {
      "cell_type": "markdown",
      "source": [
        "Cheak dimension of array with `.ndim`"
      ],
      "metadata": {
        "id": "jM3L6XYRp6Sl"
      }
    },
    {
      "cell_type": "code",
      "source": [
        "zero=np.array(2)\n",
        "print(zero.ndim)"
      ],
      "metadata": {
        "colab": {
          "base_uri": "https://localhost:8080/"
        },
        "id": "hjD1H-Z0piEF",
        "outputId": "d88d8fe5-5f70-45cf-c187-8bf6a951692d"
      },
      "execution_count": 7,
      "outputs": [
        {
          "output_type": "stream",
          "name": "stdout",
          "text": [
            "0\n"
          ]
        }
      ]
    },
    {
      "cell_type": "markdown",
      "source": [
        "## **1D**"
      ],
      "metadata": {
        "id": "iJMMyOJaqLTN"
      }
    },
    {
      "cell_type": "code",
      "source": [
        "one=np.array([1,2,3,4,5])\n",
        "print(one.ndim)"
      ],
      "metadata": {
        "colab": {
          "base_uri": "https://localhost:8080/"
        },
        "id": "bVyBGjHQqNj5",
        "outputId": "308fd30f-fd6f-49b0-8ef3-e569e4c4edbd"
      },
      "execution_count": 8,
      "outputs": [
        {
          "output_type": "stream",
          "name": "stdout",
          "text": [
            "1\n"
          ]
        }
      ]
    },
    {
      "cell_type": "markdown",
      "source": [
        "## **2D**"
      ],
      "metadata": {
        "id": "L6pQTrBpqbVL"
      }
    },
    {
      "cell_type": "code",
      "source": [
        "two=np.array([[1,2],[3,4]])\n",
        "print(two.ndim)\n",
        "print(two.shape)\n",
        "print(two)"
      ],
      "metadata": {
        "colab": {
          "base_uri": "https://localhost:8080/"
        },
        "id": "kFm1GVoHqc5U",
        "outputId": "f2006a9e-7014-46e0-d77f-6f2c4e8b37f2"
      },
      "execution_count": 9,
      "outputs": [
        {
          "output_type": "stream",
          "name": "stdout",
          "text": [
            "2\n",
            "(2, 2)\n",
            "[[1 2]\n",
            " [3 4]]\n"
          ]
        }
      ]
    },
    {
      "cell_type": "markdown",
      "source": [
        "## **3D**"
      ],
      "metadata": {
        "id": "WENZgZj0q5bQ"
      }
    },
    {
      "cell_type": "code",
      "source": [
        "three=np.array([[[1,2,4],[3,4,6]],[[11,12,9],[13,14,12]]])\n",
        "print(three)\n",
        "print(three.ndim)\n",
        "print(three.shape)"
      ],
      "metadata": {
        "colab": {
          "base_uri": "https://localhost:8080/"
        },
        "id": "Zcs6dNHxq71N",
        "outputId": "86c6874f-1d20-44e3-d988-cd3310e1eb16"
      },
      "execution_count": 10,
      "outputs": [
        {
          "output_type": "stream",
          "name": "stdout",
          "text": [
            "[[[ 1  2  4]\n",
            "  [ 3  4  6]]\n",
            "\n",
            " [[11 12  9]\n",
            "  [13 14 12]]]\n",
            "3\n",
            "(2, 2, 3)\n"
          ]
        }
      ]
    },
    {
      "cell_type": "markdown",
      "source": [
        "# **Reshaping arrays**\n",
        "\n",
        "\n",
        "---\n",
        "\n",
        "\n",
        "Reshaping means changing the shape of an array.\n",
        "\n",
        "The shape of an array is the number of elements in each dimension.\n",
        "\n",
        "By reshaping we can add or remove dimensions or change number of elements in each dimension."
      ],
      "metadata": {
        "id": "ozGfn73EtmCz"
      }
    },
    {
      "cell_type": "code",
      "source": [
        "arr = np.array([1, 2, 3, 4, 5, 6, 7, 8, 9, 10, 11, 12])\n",
        "print(arr.shape)\n",
        "print(arr.ndim)"
      ],
      "metadata": {
        "colab": {
          "base_uri": "https://localhost:8080/"
        },
        "id": "aBbtiOQntpTm",
        "outputId": "40656889-c397-4c8e-e13d-0fa53e11ca25"
      },
      "execution_count": 11,
      "outputs": [
        {
          "output_type": "stream",
          "name": "stdout",
          "text": [
            "(12,)\n",
            "1\n"
          ]
        }
      ]
    },
    {
      "cell_type": "markdown",
      "source": [
        "### **Reshape From 1-D to 2-D**"
      ],
      "metadata": {
        "id": "xssTZAQMt_rV"
      }
    },
    {
      "cell_type": "code",
      "source": [
        "arr2D=arr.reshape(12,1)\n",
        "print(arr2D)\n",
        "print('Shape:',arr2D.shape)\n",
        "print('Dimenstion:',arr2D.ndim)"
      ],
      "metadata": {
        "colab": {
          "base_uri": "https://localhost:8080/"
        },
        "id": "e8jgu5lPuDnE",
        "outputId": "951e88e9-c53f-4a44-879a-28d361274b78"
      },
      "execution_count": 12,
      "outputs": [
        {
          "output_type": "stream",
          "name": "stdout",
          "text": [
            "[[ 1]\n",
            " [ 2]\n",
            " [ 3]\n",
            " [ 4]\n",
            " [ 5]\n",
            " [ 6]\n",
            " [ 7]\n",
            " [ 8]\n",
            " [ 9]\n",
            " [10]\n",
            " [11]\n",
            " [12]]\n",
            "Shape: (12, 1)\n",
            "Dimenstion: 2\n"
          ]
        }
      ]
    },
    {
      "cell_type": "markdown",
      "source": [
        "### **Reshape From 1-D to 3-D**"
      ],
      "metadata": {
        "id": "aayGnfLqu6T9"
      }
    },
    {
      "cell_type": "code",
      "source": [
        "arr3D=arr.reshape(3,2,2)\n",
        "print(arr3D)\n",
        "print('Shape:',arr3D.shape)\n",
        "print('Dimenstion:',arr3D.ndim)"
      ],
      "metadata": {
        "colab": {
          "base_uri": "https://localhost:8080/"
        },
        "id": "jESZszUXu70J",
        "outputId": "faaeaaac-d82f-4afa-c9e1-22724c87bc1f"
      },
      "execution_count": 13,
      "outputs": [
        {
          "output_type": "stream",
          "name": "stdout",
          "text": [
            "[[[ 1  2]\n",
            "  [ 3  4]]\n",
            "\n",
            " [[ 5  6]\n",
            "  [ 7  8]]\n",
            "\n",
            " [[ 9 10]\n",
            "  [11 12]]]\n",
            "Shape: (3, 2, 2)\n",
            "Dimenstion: 3\n"
          ]
        }
      ]
    },
    {
      "cell_type": "markdown",
      "source": [
        "# **Flattening the arrays**\n",
        "\n",
        "\n",
        "---\n",
        "\n",
        "\n",
        "Flattening array means converting a multidimensional array into a 1D array.\n",
        "\n",
        "We can use reshape(-1) or a.flatten() to do this."
      ],
      "metadata": {
        "id": "t6MAZij7van4"
      }
    },
    {
      "cell_type": "code",
      "source": [
        "print(arr3D.reshape(-1))"
      ],
      "metadata": {
        "colab": {
          "base_uri": "https://localhost:8080/"
        },
        "id": "BmxH56i5vdUe",
        "outputId": "432428b4-5f10-4043-dc54-1802f19a2169"
      },
      "execution_count": 14,
      "outputs": [
        {
          "output_type": "stream",
          "name": "stdout",
          "text": [
            "[ 1  2  3  4  5  6  7  8  9 10 11 12]\n"
          ]
        }
      ]
    },
    {
      "cell_type": "markdown",
      "source": [
        "### **or**"
      ],
      "metadata": {
        "id": "IhhrzsxgvydO"
      }
    },
    {
      "cell_type": "code",
      "source": [
        "print(arr3D.flatten())"
      ],
      "metadata": {
        "colab": {
          "base_uri": "https://localhost:8080/"
        },
        "id": "bjvVH9NPv0nE",
        "outputId": "5b71c1c2-1213-4c0c-b56b-90037c974e2e"
      },
      "execution_count": 15,
      "outputs": [
        {
          "output_type": "stream",
          "name": "stdout",
          "text": [
            "[ 1  2  3  4  5  6  7  8  9 10 11 12]\n"
          ]
        }
      ]
    },
    {
      "cell_type": "markdown",
      "source": [
        "# **Data Types**"
      ],
      "metadata": {
        "id": "KkRCIik9KW2f"
      }
    },
    {
      "cell_type": "code",
      "source": [
        "print(np.arange(1,5).dtype)"
      ],
      "metadata": {
        "colab": {
          "base_uri": "https://localhost:8080/"
        },
        "id": "ZUDQeBc_KgRX",
        "outputId": "8104386c-c8e6-4a57-99f7-eb431002bc4e"
      },
      "execution_count": 16,
      "outputs": [
        {
          "output_type": "stream",
          "name": "stdout",
          "text": [
            "int64\n"
          ]
        }
      ]
    },
    {
      "cell_type": "markdown",
      "source": [
        "## **Creating Arrays With a Defined Data Type**"
      ],
      "metadata": {
        "id": "b6VOaGMGQuOR"
      }
    },
    {
      "cell_type": "code",
      "source": [
        "arr = np.array([1, 2, 3, 4])\n",
        "print(arr.dtype)\n",
        "\n",
        "\n",
        "#specify\n",
        "newarr=np.array([1, 2, 3, 4], dtype=np.int32)\n",
        "print(newarr.dtype)"
      ],
      "metadata": {
        "colab": {
          "base_uri": "https://localhost:8080/"
        },
        "id": "WgvnI-jNQj61",
        "outputId": "43a2b170-e38c-40b3-a860-86c5bef017c5"
      },
      "execution_count": 17,
      "outputs": [
        {
          "output_type": "stream",
          "name": "stdout",
          "text": [
            "int64\n",
            "int32\n"
          ]
        }
      ]
    },
    {
      "cell_type": "markdown",
      "source": [
        "## **Converting Data Type on Existing Arrays**\n",
        "\n",
        "\n",
        "---\n",
        "\n",
        "\n",
        "The best way to change the data type of an existing array, is to make a copy of the array with the astype() method.\n",
        "\n",
        "The astype() function creates a copy of the array, and allows you to specify the data type as a parameter."
      ],
      "metadata": {
        "id": "T-DHnNXZR5I7"
      }
    },
    {
      "cell_type": "code",
      "source": [
        "newarr2=newarr.astype(np.int8)\n",
        "print(newarr2.dtype)"
      ],
      "metadata": {
        "colab": {
          "base_uri": "https://localhost:8080/"
        },
        "id": "VLQHDRogR8Cy",
        "outputId": "b547d214-3038-44bc-fe96-04ac5f0c609a"
      },
      "execution_count": 18,
      "outputs": [
        {
          "output_type": "stream",
          "name": "stdout",
          "text": [
            "int8\n"
          ]
        }
      ]
    },
    {
      "cell_type": "markdown",
      "source": [
        "# **Importing Array**"
      ],
      "metadata": {
        "id": "HmySHMs_GMXi"
      }
    },
    {
      "cell_type": "code",
      "source": [
        "from google.colab import drive\n",
        "drive.mount('/content/drive')"
      ],
      "metadata": {
        "colab": {
          "base_uri": "https://localhost:8080/"
        },
        "id": "q6yxrmk4_FHd",
        "outputId": "b7839534-9c65-4386-d885-c3b4ca73b155"
      },
      "execution_count": 19,
      "outputs": [
        {
          "output_type": "stream",
          "name": "stdout",
          "text": [
            "Mounted at /content/drive\n"
          ]
        }
      ]
    },
    {
      "cell_type": "code",
      "source": [
        "with open('/content/drive/MyDrive/DataCamp/Data/NYP/tree_census.npy','rb') as f:\n",
        "          tree_census=np.load(f)\n",
        "print(tree_census)"
      ],
      "metadata": {
        "colab": {
          "base_uri": "https://localhost:8080/"
        },
        "id": "hbBrdalLZvYF",
        "outputId": "29b10b8e-af3c-43ad-aba2-e20f2641c5b2"
      },
      "execution_count": 20,
      "outputs": [
        {
          "output_type": "stream",
          "name": "stdout",
          "text": [
            "[[     3 501451     24      0]\n",
            " [     4 501451     20      0]\n",
            " [     7 501911      3      0]\n",
            " ...\n",
            " [  1198 227387     11      0]\n",
            " [  1199 227387     11      0]\n",
            " [  1210 227386      6      0]]\n"
          ]
        }
      ]
    },
    {
      "cell_type": "markdown",
      "source": [
        "Each row of the tree_census 2D array lists information for a different tree: the tree ID, block ID, trunk diameter, and stump diameter in that order."
      ],
      "metadata": {
        "id": "d_VTjHOVmQrq"
      }
    },
    {
      "cell_type": "markdown",
      "source": [
        "# **1D Slicing & Indexing array**"
      ],
      "metadata": {
        "id": "DlXOTMrLmfsH"
      }
    },
    {
      "cell_type": "markdown",
      "source": [
        "\n",
        "\n",
        "\n",
        "1.   Select all rows of block ID data from the 2nd column\n",
        "2.   Print the first 5 block_ids\n",
        "1.   Select the 10th block ID from block_ids\n",
        "2.   Select 5 block IDs from block_ids starting with the 10th ID\n",
        "\n",
        "\n",
        "\n",
        "\n",
        "\n"
      ],
      "metadata": {
        "id": "VdAgkkfwnCbY"
      }
    },
    {
      "cell_type": "code",
      "source": [
        "#1,2\n",
        "block_ids=tree_census[:,1]  #indexing\n",
        "print(block_ids[:5])        #slicing"
      ],
      "metadata": {
        "colab": {
          "base_uri": "https://localhost:8080/"
        },
        "id": "VqzaBsvgmktG",
        "outputId": "f3f7284b-c967-425c-d7dc-f62023494e3f"
      },
      "execution_count": 21,
      "outputs": [
        {
          "output_type": "stream",
          "name": "stdout",
          "text": [
            "[501451 501451 501911 501911 501911]\n"
          ]
        }
      ]
    },
    {
      "cell_type": "code",
      "source": [
        "#3\n",
        "print(block_ids[9])   #indexing"
      ],
      "metadata": {
        "colab": {
          "base_uri": "https://localhost:8080/"
        },
        "id": "dP8QDKjjqcph",
        "outputId": "c1865033-ceed-419a-d393-6f703945945d"
      },
      "execution_count": 22,
      "outputs": [
        {
          "output_type": "stream",
          "name": "stdout",
          "text": [
            "501911\n"
          ]
        }
      ]
    },
    {
      "cell_type": "code",
      "source": [
        "#4\n",
        "print(block_ids[9:14])    #slicing"
      ],
      "metadata": {
        "colab": {
          "base_uri": "https://localhost:8080/"
        },
        "id": "l0qBsIKSrDS-",
        "outputId": "33ef2bc9-cb84-4b68-f4cc-b9a209442f68"
      },
      "execution_count": 23,
      "outputs": [
        {
          "output_type": "stream",
          "name": "stdout",
          "text": [
            "[501911 501911 501911 501909 501909]\n"
          ]
        }
      ]
    },
    {
      "cell_type": "markdown",
      "source": [
        "# **2D Slicing & Indexing array**"
      ],
      "metadata": {
        "id": "JgmwtIKzre1A"
      }
    },
    {
      "cell_type": "markdown",
      "source": [
        "\n",
        "\n",
        "1.   Create an array of the first 100 trunk diameters from tree_census\n",
        "2.   Create an array of trunk diameters with even row indices from 50 to 100 inclusive\n",
        "\n"
      ],
      "metadata": {
        "id": "SNVdcSS9r-Yq"
      }
    },
    {
      "cell_type": "code",
      "source": [
        "#1\n",
        "trunk=tree_census[:100,2]\n",
        "trunk"
      ],
      "metadata": {
        "colab": {
          "base_uri": "https://localhost:8080/"
        },
        "id": "QD0Sn8QsriAZ",
        "outputId": "6bafff6e-5ca1-4be5-9261-7d9a1fe15d92"
      },
      "execution_count": 24,
      "outputs": [
        {
          "output_type": "execute_result",
          "data": {
            "text/plain": [
              "array([24, 20,  3,  3,  4,  4,  4,  4,  4,  3,  3,  4,  2,  2,  3,  4,  4,\n",
              "        4,  0, 14,  3,  4,  7,  8,  7,  8,  7,  5,  6,  5,  5, 17,  0, 19,\n",
              "       21, 18,  4,  5,  3,  4,  3,  4, 13, 13, 13,  5,  4,  4,  4, 11,  5,\n",
              "        4,  5,  8, 51,  7,  4, 15,  3,  8,  6,  6,  3,  4,  3,  2,  3,  3,\n",
              "        6,  5,  5,  5,  5,  9,  4,  4,  7,  7,  6,  5,  4,  4,  5,  5,  5,\n",
              "        7,  3,  5,  3,  3,  6,  6,  8,  7,  4,  5,  4,  4,  4,  4])"
            ]
          },
          "metadata": {},
          "execution_count": 24
        }
      ]
    },
    {
      "cell_type": "code",
      "source": [
        "#2\n",
        "even=tree_census[50:101:2,2]    #with step 2\n",
        "even"
      ],
      "metadata": {
        "colab": {
          "base_uri": "https://localhost:8080/"
        },
        "id": "yO1DjjyOsra3",
        "outputId": "965b5801-249d-423b-d5d4-076da90ec3cd"
      },
      "execution_count": 25,
      "outputs": [
        {
          "output_type": "execute_result",
          "data": {
            "text/plain": [
              "array([ 5,  5, 51,  4,  3,  6,  3,  3,  3,  6,  5,  5,  4,  7,  6,  4,  5,\n",
              "        5,  3,  3,  6,  8,  4,  4,  4,  6])"
            ]
          },
          "metadata": {},
          "execution_count": 25
        }
      ]
    },
    {
      "cell_type": "markdown",
      "source": [
        "We can also define the step, like this: [start:end:step]."
      ],
      "metadata": {
        "id": "hntAM1YvtcjG"
      }
    },
    {
      "cell_type": "markdown",
      "source": [
        "# **Sorting**"
      ],
      "metadata": {
        "id": "6BP9Tt_KwLpP"
      }
    },
    {
      "cell_type": "code",
      "source": [
        "with open('/content/drive/MyDrive/DataCamp/Data/NYP/sudoku_game.npy','rb') as f:\n",
        "          suduku=np.load(f)\n",
        "print(suduku)"
      ],
      "metadata": {
        "colab": {
          "base_uri": "https://localhost:8080/"
        },
        "id": "O7gMjAD6wTET",
        "outputId": "2c7c7dc1-42f3-40d3-ecb9-603717c503f7"
      },
      "execution_count": 26,
      "outputs": [
        {
          "output_type": "stream",
          "name": "stdout",
          "text": [
            "[[0 0 5 0 0 9 0 0 1]\n",
            " [0 7 0 0 6 0 0 4 3]\n",
            " [0 0 6 0 0 2 0 8 7]\n",
            " [1 9 0 0 0 7 4 0 0]\n",
            " [0 5 0 0 8 3 0 0 0]\n",
            " [6 0 0 0 0 0 1 0 5]\n",
            " [0 0 3 5 0 8 6 9 0]\n",
            " [0 4 2 9 1 0 3 0 0]]\n"
          ]
        }
      ]
    },
    {
      "cell_type": "code",
      "source": [
        "#sorting by coloumn axis\n",
        "sort_suduku_c=np.sort(suduku)\n",
        "sort_suduku_c"
      ],
      "metadata": {
        "colab": {
          "base_uri": "https://localhost:8080/"
        },
        "id": "CYN7bp9ewkhH",
        "outputId": "58cff1ea-6c0c-4f5d-abd9-09a51d853271"
      },
      "execution_count": 27,
      "outputs": [
        {
          "output_type": "execute_result",
          "data": {
            "text/plain": [
              "array([[0, 0, 0, 0, 0, 0, 1, 5, 9],\n",
              "       [0, 0, 0, 0, 0, 3, 4, 6, 7],\n",
              "       [0, 0, 0, 0, 0, 2, 6, 7, 8],\n",
              "       [0, 0, 0, 0, 0, 1, 4, 7, 9],\n",
              "       [0, 0, 0, 0, 0, 0, 3, 5, 8],\n",
              "       [0, 0, 0, 0, 0, 0, 1, 5, 6],\n",
              "       [0, 0, 0, 0, 3, 5, 6, 8, 9],\n",
              "       [0, 0, 0, 0, 1, 2, 3, 4, 9]])"
            ]
          },
          "metadata": {},
          "execution_count": 27
        }
      ]
    },
    {
      "cell_type": "code",
      "source": [
        "#sorting by row axis\n",
        "sort_suduku_r=np.sort(suduku,axis=0)\n",
        "sort_suduku_r"
      ],
      "metadata": {
        "colab": {
          "base_uri": "https://localhost:8080/"
        },
        "id": "KpVZC3Ofw8zt",
        "outputId": "bde0484b-f63c-4c8e-8565-81c15d0fb034"
      },
      "execution_count": 28,
      "outputs": [
        {
          "output_type": "execute_result",
          "data": {
            "text/plain": [
              "array([[0, 0, 0, 0, 0, 0, 0, 0, 0],\n",
              "       [0, 0, 0, 0, 0, 0, 0, 0, 0],\n",
              "       [0, 0, 0, 0, 0, 0, 0, 0, 0],\n",
              "       [0, 0, 0, 0, 0, 2, 0, 0, 0],\n",
              "       [0, 4, 2, 0, 0, 3, 1, 0, 1],\n",
              "       [0, 5, 3, 0, 1, 7, 3, 4, 3],\n",
              "       [1, 7, 5, 5, 6, 8, 4, 8, 5],\n",
              "       [6, 9, 6, 9, 8, 9, 6, 9, 7]])"
            ]
          },
          "metadata": {},
          "execution_count": 28
        }
      ]
    },
    {
      "cell_type": "markdown",
      "source": [
        "# **Filtering**\n",
        "\n",
        "\n",
        "---\n",
        "\n",
        "Returns array of elements\n",
        "\n",
        "\n",
        "1.   Create a filter array that will return only values higher than 42\n",
        "2.   Create a filter array that will return only even elements from the original array\n",
        "\n"
      ],
      "metadata": {
        "id": "G28GcUQm-gOH"
      }
    },
    {
      "cell_type": "code",
      "source": [
        "#1\n",
        "arr = np.array([41, 42, 43, 44])\n",
        "\n",
        "filter_arr = arr > 42\n",
        "\n",
        "newarr = arr[filter_arr]\n",
        "\n",
        "print(filter_arr)\n",
        "print(newarr)"
      ],
      "metadata": {
        "colab": {
          "base_uri": "https://localhost:8080/"
        },
        "id": "AsyNnDu7-qfS",
        "outputId": "febda781-27ac-4d8c-aaef-6bce968f4e30"
      },
      "execution_count": 29,
      "outputs": [
        {
          "output_type": "stream",
          "name": "stdout",
          "text": [
            "[False False  True  True]\n",
            "[43 44]\n"
          ]
        }
      ]
    },
    {
      "cell_type": "code",
      "source": [
        "#2\n",
        "arr = np.array([1, 2, 3, 4, 5, 6, 7])\n",
        "\n",
        "newarr = arr[arr % 2 == 0]      #one line code\n",
        "\n",
        "print(newarr)"
      ],
      "metadata": {
        "colab": {
          "base_uri": "https://localhost:8080/"
        },
        "id": "LkWEMqGC_rxD",
        "outputId": "f8056288-9847-461d-e492-96ddf3609d2c"
      },
      "execution_count": 30,
      "outputs": [
        {
          "output_type": "stream",
          "name": "stdout",
          "text": [
            "[2 4 6]\n"
          ]
        }
      ]
    },
    {
      "cell_type": "markdown",
      "source": [
        "\n",
        "\n",
        "\n",
        "---\n",
        "\n",
        "\n",
        "1.   Create an array, largest_tree_data, which contains the row of data on the largest tree in tree_census corresponding to the tree with a diameter of 51.\n",
        "2.   Slice largest_tree_data to retrieve only the block id of the block the largest tree is located on; save this block id as largest_tree_block_id.\n",
        "\n",
        "1.   Create an array called trees_on_largest_tree_block which contains data on all trees with the same block ID as the largest tree.\n",
        "\n",
        "\n",
        "\n",
        "\n",
        "\n",
        "\n",
        "\n",
        "\n"
      ],
      "metadata": {
        "id": "5BZy_IvFAHt0"
      }
    },
    {
      "cell_type": "code",
      "source": [
        "#1\n",
        "largest_tree=tree_census[tree_census[:,2]==51]\n",
        "largest_tree"
      ],
      "metadata": {
        "colab": {
          "base_uri": "https://localhost:8080/"
        },
        "id": "wt3x6I1kAHX1",
        "outputId": "a28de534-e323-45a4-b45b-17cd2f08a6eb"
      },
      "execution_count": 31,
      "outputs": [
        {
          "output_type": "execute_result",
          "data": {
            "text/plain": [
              "array([[    61, 501882,     51,      0]])"
            ]
          },
          "metadata": {},
          "execution_count": 31
        }
      ]
    },
    {
      "cell_type": "code",
      "source": [
        "#2\n",
        "largest_tree_block=largest_tree[:,1]\n",
        "largest_tree_block"
      ],
      "metadata": {
        "colab": {
          "base_uri": "https://localhost:8080/"
        },
        "id": "u4lzxIk9C3ri",
        "outputId": "a9d03fef-1804-4e41-92f2-7b5502a95e31"
      },
      "execution_count": 32,
      "outputs": [
        {
          "output_type": "execute_result",
          "data": {
            "text/plain": [
              "array([501882])"
            ]
          },
          "metadata": {},
          "execution_count": 32
        }
      ]
    },
    {
      "cell_type": "code",
      "source": [
        "#3\n",
        "trees_on_large_block=tree_census[tree_census[:,1]==largest_tree_block]\n",
        "trees_on_large_block"
      ],
      "metadata": {
        "colab": {
          "base_uri": "https://localhost:8080/"
        },
        "id": "9QrG2ZZEDJUD",
        "outputId": "7b472910-8113-47ca-d932-6d6edb0c2b88"
      },
      "execution_count": 33,
      "outputs": [
        {
          "output_type": "execute_result",
          "data": {
            "text/plain": [
              "array([[    60, 501882,      8,      0],\n",
              "       [    61, 501882,     51,      0],\n",
              "       [    62, 501882,      7,      0],\n",
              "       [    63, 501882,      4,      0],\n",
              "       [    64, 501882,     15,      0],\n",
              "       [    65, 501882,      3,      0],\n",
              "       [    66, 501882,      8,      0],\n",
              "       [    67, 501882,      6,      0],\n",
              "       [    68, 501882,      6,      0],\n",
              "       [    69, 501882,      3,      0]])"
            ]
          },
          "metadata": {},
          "execution_count": 33
        }
      ]
    },
    {
      "cell_type": "markdown",
      "source": [
        "# **NumPy Searching**\n",
        "\n",
        "\n",
        "---\n",
        "\n",
        "You can search an array for a certain value, and return the indexes that get a match.\n",
        "\n",
        "To search an array, use the where() method.\n",
        "\n",
        "We can also creat arrays from conditions using np.where(condition, replace value if condition meet, replace value if conditin doesn't meet)"
      ],
      "metadata": {
        "id": "jjMCpEnVHDwC"
      }
    },
    {
      "cell_type": "markdown",
      "source": [
        "\n",
        "\n",
        "1.   Search the index number of tree_census where block_id is 501882.\n",
        "2.   Create and print a 1D array called trunk_stump_diameters, which replaces a tree's trunk diameter with its stump diameter if the trunk diameter is zero.\n",
        "\n",
        "\n",
        "\n"
      ],
      "metadata": {
        "id": "wgA0TWa7HYnH"
      }
    },
    {
      "cell_type": "code",
      "source": [
        "#1\n",
        "ind_trees_on_large_block=np.where(tree_census[:,1]==501882)\n",
        "ind_trees_on_large_block"
      ],
      "metadata": {
        "colab": {
          "base_uri": "https://localhost:8080/"
        },
        "id": "wL3eeSZAHSaL",
        "outputId": "0f986751-fdd7-41a4-8973-9a1cb2b9a8fd"
      },
      "execution_count": 34,
      "outputs": [
        {
          "output_type": "execute_result",
          "data": {
            "text/plain": [
              "(array([53, 54, 55, 56, 57, 58, 59, 60, 61, 62]),)"
            ]
          },
          "metadata": {},
          "execution_count": 34
        }
      ]
    },
    {
      "cell_type": "code",
      "source": [
        "#2 creating new coloumn\n",
        "trunk_stump=np.where(tree_census[:,2]==0,tree_census[:,3],tree_census[:,2])\n",
        "trunk_stump"
      ],
      "metadata": {
        "colab": {
          "base_uri": "https://localhost:8080/"
        },
        "id": "V-539rNGIzNB",
        "outputId": "02c6c25b-95fa-4f63-b370-845125d88016"
      },
      "execution_count": 35,
      "outputs": [
        {
          "output_type": "execute_result",
          "data": {
            "text/plain": [
              "array([24, 20,  3,  3,  4,  4,  4,  4,  4,  3,  3,  4,  2,  2,  3,  4,  4,\n",
              "        4,  3, 14,  3,  4,  7,  8,  7,  8,  7,  5,  6,  5,  5, 17, 31, 19,\n",
              "       21, 18,  4,  5,  3,  4,  3,  4, 13, 13, 13,  5,  4,  4,  4, 11,  5,\n",
              "        4,  5,  8, 51,  7,  4, 15,  3,  8,  6,  6,  3,  4,  3,  2,  3,  3,\n",
              "        6,  5,  5,  5,  5,  9,  4,  4,  7,  7,  6,  5,  4,  4,  5,  5,  5,\n",
              "        7,  3,  5,  3,  3,  6,  6,  8,  7,  4,  5,  4,  4,  4,  4,  6,  5,\n",
              "        3,  4, 12, 12, 12,  5,  6,  6,  6,  6,  6,  5,  5,  6,  7,  7, 25,\n",
              "        5,  5,  4,  6,  6,  7, 11,  6, 17, 13, 14, 14, 20, 15, 13,  7,  7,\n",
              "       10, 17, 14,  4,  6,  7,  8,  7,  7,  6,  7,  5,  2,  2,  2,  2, 26,\n",
              "       25,  2, 15,  6, 20,  5,  9, 15, 13, 15,  3,  2, 13,  6, 12, 15, 18,\n",
              "       22, 18, 18, 15, 17,  7,  3,  7,  8,  4, 12, 11, 12,  3,  9, 12, 11,\n",
              "       10,  8,  6,  6,  7,  7,  3, 15, 12, 12,  4,  5,  5,  5,  4,  4,  5,\n",
              "        4,  9,  2,  4,  4,  6,  5,  5,  2,  5,  5,  4,  4,  5,  5,  6, 11,\n",
              "        4,  5,  7,  3, 14, 11, 10,  7, 15, 10,  5,  6, 10, 10,  6,  5,  4,\n",
              "        4,  3,  5,  4, 14, 12, 11,  8, 14, 12,  9, 12, 11,  7,  8, 10, 10,\n",
              "       12, 11, 12,  5,  5,  6,  9,  9,  8,  5,  5,  5,  6,  6, 12, 12, 11,\n",
              "       12,  8,  9,  5,  5,  5,  8,  2,  2,  2, 14, 18, 14, 14, 22, 15, 19,\n",
              "       14, 18,  7,  7,  7,  8,  8,  5, 10, 14,  2,  2,  2,  2, 11, 12, 12,\n",
              "        3,  3,  3,  3,  3,  6,  6,  8,  2,  2, 11, 11, 11,  9, 11, 12, 13,\n",
              "        9, 11,  6,  4,  5,  5,  2,  2,  8, 10,  7,  9, 11, 11,  1,  2, 26,\n",
              "        4, 13,  2,  4,  3,  4,  4,  4,  4,  3,  4,  2,  2, 12, 13,  5,  4,\n",
              "        2,  3,  3, 25, 11, 11, 14, 22,  2,  3, 10,  2,  2, 13, 19, 26, 21,\n",
              "       19, 14, 14,  5, 19, 15, 11, 15,  6, 19, 17, 12, 13, 15, 12,  2, 16,\n",
              "        2,  2,  2, 25,  2, 21,  2, 15, 16, 14, 13, 11,  8, 11, 13, 12,  7,\n",
              "       24, 19,  3,  3,  4,  6, 11, 17, 19, 19, 17, 15, 13, 15, 27, 16, 15,\n",
              "       20, 17, 16,  4, 10,  9, 14, 11, 12,  8,  9,  9, 13, 14,  7, 11, 14,\n",
              "        3,  7, 16, 17, 13, 14, 16, 12,  4,  5,  3, 16, 11,  9,  9, 10,  8,\n",
              "       10, 11, 11,  8, 11, 11, 11,  9, 11, 10,  9,  5, 12, 11, 13,  9, 15,\n",
              "       16, 12,  7, 10,  6,  9,  5,  9,  6,  6,  3,  3,  5,  4,  4,  4,  4,\n",
              "        6,  4,  7,  6,  7,  6,  5,  7,  8, 20,  9, 11, 11, 10,  9, 11, 12,\n",
              "       10, 18,  7,  4,  4,  4,  4,  3, 19, 12,  3,  4,  5,  4,  4, 17, 15,\n",
              "        8,  4,  5,  6, 25,  6, 11,  3,  3, 15,  4, 14, 12, 15,  2,  3,  2,\n",
              "       11, 11, 14, 12, 15, 12,  8,  9,  9,  8,  7, 12, 15,  4, 11, 10,  6,\n",
              "        7,  9, 38,  6,  3, 15, 11,  5,  4,  2, 13, 21, 26,  4, 18, 10, 17,\n",
              "       20, 19, 21, 19, 18, 18, 17, 24, 27, 22, 21,  9, 17, 17, 19, 28, 21,\n",
              "       11, 23, 28,  7, 33, 30,  5, 26, 27, 22,  2,  2,  2,  3,  4,  3,  3,\n",
              "       12, 17, 15,  2,  3,  3,  6,  6,  6,  6, 18, 13, 25, 25, 22, 25, 21,\n",
              "       19,  3,  3,  3,  4,  4, 19,  4,  4, 24, 27, 20,  3, 19,  5, 12, 26,\n",
              "       13,  7, 13,  4, 20,  5, 14, 20, 11,  3,  4, 19,  4, 17, 22, 24, 15,\n",
              "        7,  5,  4,  5,  5,  4,  4,  4,  8,  4,  4,  7,  6, 10,  8, 11,  2,\n",
              "        9,  8,  4,  3,  3,  2,  2, 22, 22, 24, 23, 20, 21,  5,  6,  7,  4,\n",
              "        2, 15, 19, 20,  4,  4,  7,  2, 17, 10,  3, 11,  2, 10, 11,  4,  4,\n",
              "        3, 13,  3,  3,  3,  3,  4,  3,  3,  3, 14,  3,  9,  9,  9, 10, 20,\n",
              "       14, 19, 16, 22, 22, 17, 18,  9,  9,  7,  9,  3, 14, 13, 15, 16, 18,\n",
              "       21,  3,  8,  3,  9,  8, 11,  9, 10,  5,  5, 11, 16,  3,  4,  3,  4,\n",
              "        5,  4, 10, 10, 12,  9,  9, 13, 11, 10,  3,  3,  3,  4,  3,  4,  4,\n",
              "       10, 25,  5,  5,  1, 34,  1,  1,  1, 15, 11, 11, 13,  7,  7, 12, 13,\n",
              "        3, 17, 14, 18, 15, 17, 14, 13, 20,  9, 11,  4,  9, 13,  9, 19, 20,\n",
              "        8,  8, 20, 19, 13, 44, 17, 25, 14, 12, 14, 15,  6,  6,  7,  5,  5,\n",
              "        5,  5,  3,  9,  9, 17, 13,  3, 13, 20, 20, 18, 18, 21, 20, 19, 22,\n",
              "       18, 21, 25, 21, 21, 18, 20, 18, 23, 23, 23, 18, 24, 22,  2,  7,  2,\n",
              "       11, 19, 21, 14, 20, 13,  2, 18,  2,  2, 31, 25, 31, 25, 11, 22,  2,\n",
              "       18, 17, 18, 21, 22, 16, 16, 18, 15, 23,  5,  6, 13, 19,  7, 16, 16,\n",
              "       20, 15, 18,  1, 15, 10, 24, 18,  2,  3,  2, 17, 12, 14, 17, 23, 18,\n",
              "       12, 13, 23,  3, 17,  8,  8,  8,  4,  9, 22,  2, 14, 23, 20, 23,  3,\n",
              "        7,  3,  6,  4, 12,  4,  4,  2,  6,  4,  3, 17, 19,  4, 19, 15, 14,\n",
              "       17, 20,  2, 16,  3, 12, 10, 11,  4, 11,  4, 30,  8,  4, 39,  3,  7,\n",
              "       11, 18, 22, 19, 21,  7, 21,  2, 16, 11, 20, 21, 22,  8, 16,  2, 23,\n",
              "       14, 14, 13, 20, 21, 15, 19, 28, 17, 16, 12, 11, 11,  6])"
            ]
          },
          "metadata": {},
          "execution_count": 35
        }
      ]
    },
    {
      "cell_type": "markdown",
      "source": [
        "# **Adding and removing data**\n",
        "\n",
        "\n",
        "---\n",
        "\n"
      ],
      "metadata": {
        "id": "wC6nMl1eunrn"
      }
    },
    {
      "cell_type": "markdown",
      "source": [
        "### **Adding rows**\n",
        "\n",
        "\n",
        "1.   Print the shapes of tree_census and new_trees to confirm they are compatible to concatenate.\n",
        "2.   Add rows to tree_census which contain data for the new trees"
      ],
      "metadata": {
        "id": "ePxOA_t5uq2g"
      }
    },
    {
      "cell_type": "code",
      "source": [
        "new_trees = np.array([[1211, 227386, 20, 0], [1212, 227386, 8, 0]])"
      ],
      "metadata": {
        "id": "_TVXfeaOuwxP"
      },
      "execution_count": 36,
      "outputs": []
    },
    {
      "cell_type": "code",
      "source": [
        "#1\n",
        "print(tree_census.shape,new_trees.shape)"
      ],
      "metadata": {
        "colab": {
          "base_uri": "https://localhost:8080/"
        },
        "id": "8UHRWhUZwPjQ",
        "outputId": "9544ae8e-d427-4567-9c95-5d3d7942a578"
      },
      "execution_count": 37,
      "outputs": [
        {
          "output_type": "stream",
          "name": "stdout",
          "text": [
            "(1000, 4) (2, 4)\n"
          ]
        }
      ]
    },
    {
      "cell_type": "markdown",
      "source": [
        "It is compatable to connect in row axis. (axis=0)"
      ],
      "metadata": {
        "id": "6oj7GmhOwX7S"
      }
    },
    {
      "cell_type": "code",
      "source": [
        "#2\n",
        "update=np.concatenate((tree_census,new_trees))\n",
        "print(update)"
      ],
      "metadata": {
        "colab": {
          "base_uri": "https://localhost:8080/"
        },
        "id": "MrmdBVitwjGZ",
        "outputId": "28cc5c9a-65f7-4eb4-a2c1-776afc8165bf"
      },
      "execution_count": 38,
      "outputs": [
        {
          "output_type": "stream",
          "name": "stdout",
          "text": [
            "[[     3 501451     24      0]\n",
            " [     4 501451     20      0]\n",
            " [     7 501911      3      0]\n",
            " ...\n",
            " [  1210 227386      6      0]\n",
            " [  1211 227386     20      0]\n",
            " [  1212 227386      8      0]]\n"
          ]
        }
      ]
    },
    {
      "cell_type": "markdown",
      "source": [
        "### **Adding coloumns**\n",
        "1.   Print the shapes of tree_census and trunk_stump\n",
        "2.   Reshape trunk_stump\n",
        "1.   Concatenate reshaped_trunk_stump to tree_census as the last column"
      ],
      "metadata": {
        "id": "Da4tinaNv-jk"
      }
    },
    {
      "cell_type": "code",
      "source": [
        "#1\n",
        "print(tree_census.shape,trunk_stump.shape)"
      ],
      "metadata": {
        "colab": {
          "base_uri": "https://localhost:8080/"
        },
        "id": "lm3FY_a8wAQK",
        "outputId": "7b5236cb-9e18-49c9-9804-bad647fb285a"
      },
      "execution_count": 39,
      "outputs": [
        {
          "output_type": "stream",
          "name": "stdout",
          "text": [
            "(1000, 4) (1000,)\n"
          ]
        }
      ]
    },
    {
      "cell_type": "markdown",
      "source": [
        "It is not compatable. Because there is no Dimension compatibility.\n",
        "trunk_stump is a 1D array and tree_census is 2D.\n"
      ],
      "metadata": {
        "id": "sojHCQltxRQd"
      }
    },
    {
      "cell_type": "code",
      "source": [
        "#2\n",
        "re=trunk_stump.reshape(1000,1)\n",
        "print(re.shape)"
      ],
      "metadata": {
        "colab": {
          "base_uri": "https://localhost:8080/"
        },
        "id": "jpA2OfWcxTef",
        "outputId": "20151f96-948a-42a6-9241-76c5dfd04adc"
      },
      "execution_count": 40,
      "outputs": [
        {
          "output_type": "stream",
          "name": "stdout",
          "text": [
            "(1000, 1)\n"
          ]
        }
      ]
    },
    {
      "cell_type": "markdown",
      "source": [
        "Now it is 2D"
      ],
      "metadata": {
        "id": "BC-lcfoqyPOK"
      }
    },
    {
      "cell_type": "code",
      "source": [
        "#3\n",
        "update2=np.concatenate((tree_census,re),axis=1)\n",
        "update2"
      ],
      "metadata": {
        "colab": {
          "base_uri": "https://localhost:8080/"
        },
        "id": "caRuyokwyYhP",
        "outputId": "663fbbed-8ec7-4e9a-dec8-0f2fc6223760"
      },
      "execution_count": 41,
      "outputs": [
        {
          "output_type": "execute_result",
          "data": {
            "text/plain": [
              "array([[     3, 501451,     24,      0,     24],\n",
              "       [     4, 501451,     20,      0,     20],\n",
              "       [     7, 501911,      3,      0,      3],\n",
              "       ...,\n",
              "       [  1198, 227387,     11,      0,     11],\n",
              "       [  1199, 227387,     11,      0,     11],\n",
              "       [  1210, 227386,      6,      0,      6]])"
            ]
          },
          "metadata": {},
          "execution_count": 41
        }
      ]
    },
    {
      "cell_type": "markdown",
      "source": [
        "### **Deleting with np.delete()**\n",
        "\n",
        "np.delete(array, which row or col have to del, axis) "
      ],
      "metadata": {
        "id": "Zm2CyNZyzqbB"
      }
    },
    {
      "cell_type": "markdown",
      "source": [
        "\n",
        "\n",
        "1.   Delete the stump diameter column from tree_census\n",
        "2.   Found the indices of the trees on block 313879\n",
        "1.   Delete the rows for trees on block 313879 from no_stumps\n",
        "\n",
        "\n",
        "\n",
        "\n"
      ],
      "metadata": {
        "id": "f6aZSJQSzslC"
      }
    },
    {
      "cell_type": "code",
      "source": [
        "#1\n",
        "no_stump=np.delete(tree_census,3,axis=1)\n",
        "no_stump.shape"
      ],
      "metadata": {
        "colab": {
          "base_uri": "https://localhost:8080/"
        },
        "id": "OUpN4sE60omi",
        "outputId": "a1cda6fd-a073-4945-cc79-9b8b4aba3e07"
      },
      "execution_count": 42,
      "outputs": [
        {
          "output_type": "execute_result",
          "data": {
            "text/plain": [
              "(1000, 3)"
            ]
          },
          "metadata": {},
          "execution_count": 42
        }
      ]
    },
    {
      "cell_type": "code",
      "source": [
        "#2\n",
        "a=np.where(tree_census[:,1]==313879)\n",
        "a"
      ],
      "metadata": {
        "colab": {
          "base_uri": "https://localhost:8080/"
        },
        "id": "xze_BL5r3L1u",
        "outputId": "690a3a5d-03be-4319-f9bd-050e520690cf"
      },
      "execution_count": 43,
      "outputs": [
        {
          "output_type": "execute_result",
          "data": {
            "text/plain": [
              "(array([921, 922]),)"
            ]
          },
          "metadata": {},
          "execution_count": 43
        }
      ]
    },
    {
      "cell_type": "code",
      "source": [
        "#3\n",
        "tree_no_stump=np.delete(no_stump,[921,922],axis=0)\n",
        "tree_no_stump.shape"
      ],
      "metadata": {
        "colab": {
          "base_uri": "https://localhost:8080/"
        },
        "id": "NbKbceRY7H34",
        "outputId": "5be723e0-662a-48be-8a36-d9cbae24897c"
      },
      "execution_count": 44,
      "outputs": [
        {
          "output_type": "execute_result",
          "data": {
            "text/plain": [
              "(998, 3)"
            ]
          },
          "metadata": {},
          "execution_count": 44
        }
      ]
    },
    {
      "cell_type": "markdown",
      "source": [
        "# **Array Mathematics**"
      ],
      "metadata": {
        "id": "MzjT21nvkCBe"
      }
    },
    {
      "cell_type": "code",
      "source": [
        "with open('/content/drive/MyDrive/DataCamp/Data/NYP/monthly_sales.npy','rb') as f:\n",
        "          monthly_sales=np.load(f)\n",
        "print(monthly_sales)"
      ],
      "metadata": {
        "colab": {
          "base_uri": "https://localhost:8080/"
        },
        "id": "WLtSha3UZ9fF",
        "outputId": "e02ef37c-cca8-492b-8723-9446ea150e64"
      },
      "execution_count": 45,
      "outputs": [
        {
          "output_type": "stream",
          "name": "stdout",
          "text": [
            "[[ 4134 23925  8657]\n",
            " [ 4116 23875  9142]\n",
            " [ 4673 27197 10645]\n",
            " [ 4580 25637 10456]\n",
            " [ 5109 27995 11299]\n",
            " [ 5011 27419 10625]\n",
            " [ 5245 27305 10630]\n",
            " [ 5270 27760 11550]\n",
            " [ 4680 24988  9762]\n",
            " [ 4913 25802 10456]\n",
            " [ 5312 25405 13401]\n",
            " [ 6630 27797 18403]]\n"
          ]
        }
      ]
    },
    {
      "cell_type": "markdown",
      "source": [
        "Each row in this monthly_sales array represents a month from January to December. The first column has monthly sales data for liquor stores, the second column has data for restaurants, and the last column tracks sales for department stores."
      ],
      "metadata": {
        "id": "oo1PEGe2j8ke"
      }
    },
    {
      "cell_type": "markdown",
      "source": [
        "\n",
        "\n",
        "1.   Find monthly total\n",
        "2.   Find monthlt avg \n",
        "1.   Cumulative sum\n",
        "2.   Add with monthly_sales data\n",
        "\n",
        "\n"
      ],
      "metadata": {
        "id": "OdFuJncUneJk"
      }
    },
    {
      "cell_type": "code",
      "source": [
        "total=monthly_sales.sum(axis=1,keepdims=True)   #keepdims use to make vartical array\n",
        "avg=monthly_sales.mean(axis=1,keepdims=True)\n",
        "cumsum=monthly_sales.cumsum(axis=0)\n",
        "new=np.concatenate((monthly_sales,total,avg),axis=1)\n",
        "print(new)\n",
        "n=np.concatenate((monthly_sales,cumsum),axis=0)\n",
        "n"
      ],
      "metadata": {
        "colab": {
          "base_uri": "https://localhost:8080/"
        },
        "id": "zNQBk2xbj9bW",
        "outputId": "47d12935-f130-4bae-912c-92d7964f406f"
      },
      "execution_count": 54,
      "outputs": [
        {
          "output_type": "stream",
          "name": "stdout",
          "text": [
            "[[ 4134.         23925.          8657.         36716.\n",
            "  12238.66666667]\n",
            " [ 4116.         23875.          9142.         37133.\n",
            "  12377.66666667]\n",
            " [ 4673.         27197.         10645.         42515.\n",
            "  14171.66666667]\n",
            " [ 4580.         25637.         10456.         40673.\n",
            "  13557.66666667]\n",
            " [ 5109.         27995.         11299.         44403.\n",
            "  14801.        ]\n",
            " [ 5011.         27419.         10625.         43055.\n",
            "  14351.66666667]\n",
            " [ 5245.         27305.         10630.         43180.\n",
            "  14393.33333333]\n",
            " [ 5270.         27760.         11550.         44580.\n",
            "  14860.        ]\n",
            " [ 4680.         24988.          9762.         39430.\n",
            "  13143.33333333]\n",
            " [ 4913.         25802.         10456.         41171.\n",
            "  13723.66666667]\n",
            " [ 5312.         25405.         13401.         44118.\n",
            "  14706.        ]\n",
            " [ 6630.         27797.         18403.         52830.\n",
            "  17610.        ]]\n"
          ]
        },
        {
          "output_type": "execute_result",
          "data": {
            "text/plain": [
              "array([[  4134,  23925,   8657],\n",
              "       [  4116,  23875,   9142],\n",
              "       [  4673,  27197,  10645],\n",
              "       [  4580,  25637,  10456],\n",
              "       [  5109,  27995,  11299],\n",
              "       [  5011,  27419,  10625],\n",
              "       [  5245,  27305,  10630],\n",
              "       [  5270,  27760,  11550],\n",
              "       [  4680,  24988,   9762],\n",
              "       [  4913,  25802,  10456],\n",
              "       [  5312,  25405,  13401],\n",
              "       [  6630,  27797,  18403],\n",
              "       [  4134,  23925,   8657],\n",
              "       [  8250,  47800,  17799],\n",
              "       [ 12923,  74997,  28444],\n",
              "       [ 17503, 100634,  38900],\n",
              "       [ 22612, 128629,  50199],\n",
              "       [ 27623, 156048,  60824],\n",
              "       [ 32868, 183353,  71454],\n",
              "       [ 38138, 211113,  83004],\n",
              "       [ 42818, 236101,  92766],\n",
              "       [ 47731, 261903, 103222],\n",
              "       [ 53043, 287308, 116623],\n",
              "       [ 59673, 315105, 135026]])"
            ]
          },
          "metadata": {},
          "execution_count": 54
        }
      ]
    }
  ]
}